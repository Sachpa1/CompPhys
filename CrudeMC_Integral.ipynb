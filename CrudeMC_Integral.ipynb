{
  "nbformat": 4,
  "nbformat_minor": 0,
  "metadata": {
    "colab": {
      "provenance": [],
      "authorship_tag": "ABX9TyOUDXFAEB/8/HiPbBnoQI9a",
      "include_colab_link": true
    },
    "kernelspec": {
      "name": "python3",
      "display_name": "Python 3"
    },
    "language_info": {
      "name": "python"
    }
  },
  "cells": [
    {
      "cell_type": "markdown",
      "metadata": {
        "id": "view-in-github",
        "colab_type": "text"
      },
      "source": [
        "<a href=\"https://colab.research.google.com/github/Sachpa1/CompPhys/blob/main/ExpIntegral.ipynb\" target=\"_parent\"><img src=\"https://colab.research.google.com/assets/colab-badge.svg\" alt=\"Open In Colab\"/></a>"
      ]
    },
    {
      "cell_type": "code",
      "source": [
        "import numpy as np\n",
        "import matplotlib.pyplot as plt\n",
        "\n",
        "def U(): return np.random.rand()\n",
        "\n",
        "a=0\n",
        "b=10\n",
        "c=1/(np.exp(b)-np.exp(a))\n",
        "\n",
        "def f(x): return np.exp(x)*c\n",
        "def integral():\n",
        "  N=100000\n",
        "  Σf=0\n",
        "  Σf2=0\n",
        "  fmax=f(10)\n",
        "\n",
        "  for i in range(N):\n",
        "    x=(b-a)*U()+a\n",
        "    Σf += f(x)\n",
        "    Σf2 += f(x)**2\n",
        "\n",
        "  μf=Σf/N\n",
        "  σf2=Σf2/N-μf**2\n",
        "\n",
        "  sf2=(N/(N-1))*σf2\n",
        "  sf=sf2**0.5\n",
        "\n",
        "  V=(b-a)\n",
        "\n",
        "  I=V*μf\n",
        "  δI=(V*sf)/N**0.5\n",
        "\n",
        "  return I,δI\n",
        "\n",
        "oloklhrwma=np.array(integral())\n",
        "print(oloklhrwma)\n",
        "print('μ = ', oloklhrwma.mean(), 'σ = ', oloklhrwma.std())\n",
        "\n",
        "x=np.linspace(0,10,1000)\n",
        "y=f(x)\n",
        "plt.plot(x,y,label=\"f(x)=exp(x)/(exp(b)-exp(a))\", color=\"red\")\n",
        "plt.xlabel(\"x\")\n",
        "plt.ylabel(\"f(x)\")\n",
        "plt.legend()\n",
        "\n",
        "plt.show()\n",
        "\n"
      ],
      "metadata": {
        "colab": {
          "base_uri": "https://localhost:8080/",
          "height": 485
        },
        "id": "9X5RGpFNPKaz",
        "outputId": "7b4c816d-2df3-461e-e760-5439348c4f5d"
      },
      "execution_count": 7,
      "outputs": [
        {
          "output_type": "stream",
          "name": "stdout",
          "text": [
            "[0.99743586 0.00632875]\n",
            "μ =  0.5018823036069333 σ =  0.49555355498302456\n"
          ]
        },
        {
          "output_type": "display_data",
          "data": {
            "text/plain": [
              "<Figure size 640x480 with 1 Axes>"
            ],
            "image/png": "[encoded data removed]"
          },
          "metadata": {}
        }
      ]
    },
    {
      "cell_type": "code",
      "source": [],
      "metadata": {
        "colab": {
          "base_uri": "https://localhost:8080/"
        },
        "id": "VSJ_PzqaPhoD",
        "outputId": "087eaddf-8f8d-4c04-ef0b-ce80df08503b"
      },
      "execution_count": null,
      "outputs": [
        {
          "output_type": "execute_result",
          "data": {
            "text/plain": [
              "0.250066501379574"
            ]
          },
          "metadata": {},
          "execution_count": 39
        }
      ]
    },
    {
      "cell_type": "code",
      "source": [],
      "metadata": {
        "id": "x9NKVP9RPjCq"
      },
      "execution_count": null,
      "outputs": []
    }
  ]
}
