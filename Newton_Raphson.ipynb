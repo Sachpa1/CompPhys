{
  "nbformat": 4,
  "nbformat_minor": 0,
  "metadata": {
    "colab": {
      "provenance": [],
      "authorship_tag": "ABX9TyMr8hR2TPd5Qo8NSo595HbY",
      "include_colab_link": true
    },
    "kernelspec": {
      "name": "python3",
      "display_name": "Python 3"
    },
    "language_info": {
      "name": "python"
    }
  },
  "cells": [
    {
      "cell_type": "markdown",
      "metadata": {
        "id": "view-in-github",
        "colab_type": "text"
      },
      "source": [
        "<a href=\"https://colab.research.google.com/github/Sachpa1/CompPhys/blob/main/Newton_Raphson.ipynb\" target=\"_parent\"><img src=\"https://colab.research.google.com/assets/colab-badge.svg\" alt=\"Open In Colab\"/></a>"
      ]
    },
    {
      "cell_type": "code",
      "source": [
        "import numpy as np\n",
        "import matplotlib.pyplot as plt\n",
        "\n",
        "#Thelw na kanw newton-raphson\n",
        "#gia na lusw thn eksiswsh f(x)=x^2-11x+5\n",
        "\n",
        "def f(x): return x**2-11*x+5\n",
        "\n",
        "def f_prime(x): return 2*x-11\n",
        "\n",
        "def newton_raphson(x0, tol=1e-6, max_iter=100):\n",
        "\n",
        "  x_n=x0\n",
        "\n",
        "  for i in range(max_iter):\n",
        "    x_next=x_n-f(x)/f_prime(x)\n",
        "    if abs(x_next-x_n)<tol:\n",
        "      return x_next\n",
        "\n",
        "      x_n=x_next\n",
        "\n",
        "    return None\n",
        "\n",
        "#Initial Guess of root\n",
        "\n",
        "    x0=1.0\n",
        "\n",
        "#Actuall root of equation\n",
        "\n",
        "  root=newton_raphson(x0)\n",
        "\n",
        "\n",
        "print(f\"The root of the equation is: {root:.6f}\")\n",
        "\n",
        "\n"
      ],
      "metadata": {
        "colab": {
          "base_uri": "https://localhost:8080/"
        },
        "id": "xo44W-4tsn7X",
        "outputId": "109b0c79-9249-455d-9cc0-3d62f30685a0"
      },
      "execution_count": null,
      "outputs": [
        {
          "output_type": "stream",
          "name": "stdout",
          "text": [
            "The root of the equation is: 1.414214\n"
          ]
        }
      ]
    },
    {
      "cell_type": "code",
      "source": [],
      "metadata": {
        "id": "-Q_1pBScMicR"
      },
      "execution_count": null,
      "outputs": []
    }
  ]
}